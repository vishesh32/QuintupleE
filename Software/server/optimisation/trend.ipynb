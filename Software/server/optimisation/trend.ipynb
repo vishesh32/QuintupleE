{
 "cells": [
  {
   "cell_type": "code",
   "execution_count": null,
   "metadata": {},
   "outputs": [],
   "source": [
    "import sys\n",
    "import os\n",
    "import numpy as np\n",
    "import matplotlib.pyplot as plt\n",
    "current_directory = os.getcwd()\n",
    "parent_directory = os.path.dirname(current_directory)\n",
    "sys.path.insert(0, parent_directory)\n",
    "\n",
    "\n",
    "from optimisation.gen_data import getTicksForDay\n",
    "from naive import trend_prediction\n",
    "\n",
    "days = []\n",
    "day_ticks = []\n",
    "\n",
    "for i in range(1000):\n",
    "    day, ticks = getTicksForDay(i)\n",
    "    days.append(day)\n",
    "    day_ticks.append(ticks)\n",
    "\n",
    "\n",
    "thresholds = []\n",
    "average_costs = []\n",
    "for j in range(0, 50):\n",
    "    thresholds.append(j)\n",
    "    costs = []\n",
    "    for i in range(1000):\n",
    "        costs.append(sum(trend_prediction(day_ticks[i], j)))\n",
    "\n",
    "    average_costs.append(np.mean(costs))\n",
    "\n",
    "    if j % 10 == 0:\n",
    "        print(f\"Average cost for {j}:\", np.mean(costs))\n",
    "\n",
    "plt.plot(thresholds, average_costs)\n",
    "\n"
   ]
  }
 ],
 "metadata": {
  "kernelspec": {
   "display_name": "smartgrid",
   "language": "python",
   "name": "python3"
  },
  "language_info": {
   "name": "python",
   "version": "3.9.19"
  }
 },
 "nbformat": 4,
 "nbformat_minor": 2
}
