{
 "cells": [
  {
   "cell_type": "code",
   "execution_count": 1,
   "metadata": {},
   "outputs": [],
   "source": [
    "from random import randint\n",
    "from models import *\n",
    "\n",
    "def get_num():\n",
    "    return randint(0, 100)"
   ]
  },
  {
   "cell_type": "code",
   "execution_count": 2,
   "metadata": {},
   "outputs": [],
   "source": [
    "from optimisation.gen_data import *\n",
    "\n",
    "def getTicksForDay(id):\n",
    "    day = Day.model_validate({\"day\": id, \"deferables\": getDefDemands(id)})\n",
    "    ticks = []\n",
    "    for tick in range(TICKS_PER_DAY):\n",
    "        sun = getSunlight(tick)\n",
    "        demand = getInstDemand(id, tick)\n",
    "        sell, buy = getPrice(id, tick)\n",
    "\n",
    "        ticks.append(\n",
    "            Tick.model_validate(\n",
    "                {\n",
    "                    \"tick\": tick,\n",
    "                    \"sun\": sun,\n",
    "                    \"demand\": demand,\n",
    "                    \"sell_price\": sell,\n",
    "                    \"buy_price\": buy,\n",
    "                    \"day\": id,\n",
    "                }\n",
    "            )\n",
    "        )\n",
    "    return day, ticks"
   ]
  },
  {
   "cell_type": "code",
   "execution_count": 3,
   "metadata": {},
   "outputs": [],
   "source": [
    "from db.mongo_client import *\n",
    "client = DBClient()"
   ]
  },
  {
   "cell_type": "code",
   "execution_count": 4,
   "metadata": {},
   "outputs": [],
   "source": [
    "for i in range(0, 10):\n",
    "    day, ticks = getTicksForDay(i+5727577)\n",
    "\n",
    "    # store the day\n",
    "    client.insert_day(day)\n",
    "\n",
    "    for tick in ticks:\n",
    "        full_tick = FullTick(\n",
    "            day=tick.day,\n",
    "            tick=tick.tick,\n",
    "            demand=tick.demand,\n",
    "            sun=tick.sun,\n",
    "            buy_price=tick.buy_price,\n",
    "            sell_price=tick.sell_price,\n",
    "            cost= float(get_num()),\n",
    "            avg_pv_power=float(get_num()),\n",
    "            storage_soc=float(get_num()),\n",
    "            avg_storage_power=float(get_num()),\n",
    "            avg_import_export_power=float(get_num()),\n",
    "            avg_red_power=float(get_num()),\n",
    "            avg_blue_power=float(get_num()),\n",
    "            avg_yellow_power=float(get_num()),\n",
    "            avg_grey_power=float(get_num()),\n",
    "            algo_import_power=float(get_num()),\n",
    "            algo_store_power=float(get_num()),\n",
    "            algo_blue_power=float(get_num()),\n",
    "            algo_yellow_power=float(get_num()),\n",
    "            algo_grey_power=float(get_num()),\n",
    "        )\n",
    "\n",
    "        client.insert_tick(full_tick)"
   ]
  },
  {
   "cell_type": "code",
   "execution_count": null,
   "metadata": {},
   "outputs": [],
   "source": []
  }
 ],
 "metadata": {
  "kernelspec": {
   "display_name": ".venv",
   "language": "python",
   "name": "python3"
  },
  "language_info": {
   "codemirror_mode": {
    "name": "ipython",
    "version": 3
   },
   "file_extension": ".py",
   "mimetype": "text/x-python",
   "name": "python",
   "nbconvert_exporter": "python",
   "pygments_lexer": "ipython3",
   "version": "3.12.3"
  }
 },
 "nbformat": 4,
 "nbformat_minor": 2
}
