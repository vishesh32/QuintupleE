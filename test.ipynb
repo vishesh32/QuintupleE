{
 "cells": [
  {
   "cell_type": "code",
   "execution_count": 2,
   "metadata": {},
   "outputs": [],
   "source": [
    "# import sys\n",
    "# sys.path.append(\"..\")\n",
    "\n",
    "from server.optimisation.models import *\n",
    "from server.optimisation.gen_data import *\n",
    "\n",
    "def getTicksForDay(id):\n",
    "    day = Day.model_validate({\"day\": id, \"deferables\": getDefDemands(id)})\n",
    "    ticks = []\n",
    "    for tick in range(TICKS_PER_DAY):\n",
    "        sun = getSunlight(tick)\n",
    "        demand = getInstDemand(id, tick)\n",
    "        sell, buy = getPrice(id, tick)\n",
    "\n",
    "        ticks.append(\n",
    "            Tick.model_validate(\n",
    "                {\n",
    "                    \"tick\": tick,\n",
    "                    \"sun\": sun,\n",
    "                    \"demand\": demand,\n",
    "                    \"sell_price\": sell,\n",
    "                    \"buy_price\": buy,\n",
    "                    \"day\": id,\n",
    "                }\n",
    "            )\n",
    "        )\n",
    "    return day, ticks"
   ]
  },
  {
   "cell_type": "code",
   "execution_count": 6,
   "metadata": {},
   "outputs": [
    {
     "data": {
      "text/plain": [
       "33.68547516184276"
      ]
     },
     "execution_count": 6,
     "metadata": {},
     "output_type": "execute_result"
    }
   ],
   "source": [
    "tick_data = []\n",
    "for i in range(100000):\n",
    "    _, tmp = getTicksForDay(143038273 + i)\n",
    "    tick_data += [tick.demand for tick in tmp]\n",
    "\n",
    "max(tick_data)*5"
   ]
  }
 ],
 "metadata": {
  "kernelspec": {
   "display_name": "smartgrid",
   "language": "python",
   "name": "python3"
  },
  "language_info": {
   "codemirror_mode": {
    "name": "ipython",
    "version": 3
   },
   "file_extension": ".py",
   "mimetype": "text/x-python",
   "name": "python",
   "nbconvert_exporter": "python",
   "pygments_lexer": "ipython3",
   "version": "3.12.3"
  }
 },
 "nbformat": 4,
 "nbformat_minor": 2
}
