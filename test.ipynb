{
 "cells": [
  {
   "cell_type": "code",
   "execution_count": 2,
   "metadata": {},
   "outputs": [],
   "source": [
    "# import sys\n",
    "# sys.path.append(\"..\")\n",
    "\n",
    "from server.optimisation.models import *\n",
    "from server.optimisation.gen_data import *\n",
    "\n",
    "def getTicksForDay(id):\n",
    "    day = Day.model_validate({\"day\": id, \"deferables\": getDefDemands(id)})\n",
    "    ticks = []\n",
    "    for tick in range(TICKS_PER_DAY):\n",
    "        sun = getSunlight(tick)\n",
    "        demand = getInstDemand(id, tick)\n",
    "        sell, buy = getPrice(id, tick)\n",
    "\n",
    "        ticks.append(\n",
    "            Tick.model_validate(\n",
    "                {\n",
    "                    \"tick\": tick,\n",
    "                    \"sun\": sun,\n",
    "                    \"demand\": demand,\n",
    "                    \"sell_price\": sell,\n",
    "                    \"buy_price\": buy,\n",
    "                    \"day\": id,\n",
    "                }\n",
    "            )\n",
    "        )\n",
    "    return day, ticks"
   ]
  },
  {
   "cell_type": "code",
   "execution_count": 1,
   "metadata": {},
   "outputs": [
    {
     "ename": "NameError",
     "evalue": "name 'getTicksForDay' is not defined",
     "output_type": "error",
     "traceback": [
      "\u001b[0;31m---------------------------------------------------------------------------\u001b[0m",
      "\u001b[0;31mNameError\u001b[0m                                 Traceback (most recent call last)",
      "Cell \u001b[0;32mIn[1], line 5\u001b[0m\n\u001b[1;32m      3\u001b[0m price \u001b[38;5;241m=\u001b[39m []\n\u001b[1;32m      4\u001b[0m \u001b[38;5;28;01mfor\u001b[39;00m i \u001b[38;5;129;01min\u001b[39;00m \u001b[38;5;28mrange\u001b[39m(\u001b[38;5;241m1000\u001b[39m):\n\u001b[0;32m----> 5\u001b[0m     day, tmp \u001b[38;5;241m=\u001b[39m \u001b[43mgetTicksForDay\u001b[49m(\u001b[38;5;241m143038273\u001b[39m \u001b[38;5;241m+\u001b[39m i)\n\u001b[1;32m      6\u001b[0m     instant_dem \u001b[38;5;241m+\u001b[39m\u001b[38;5;241m=\u001b[39m [tick\u001b[38;5;241m.\u001b[39mdemand \u001b[38;5;28;01mfor\u001b[39;00m tick \u001b[38;5;129;01min\u001b[39;00m tmp]\n\u001b[1;32m      8\u001b[0m     def_ \u001b[38;5;241m=\u001b[39m [i\u001b[38;5;241m.\u001b[39menergy \u001b[38;5;28;01mfor\u001b[39;00m i \u001b[38;5;129;01min\u001b[39;00m day\u001b[38;5;241m.\u001b[39mdeferables]\n",
      "\u001b[0;31mNameError\u001b[0m: name 'getTicksForDay' is not defined"
     ]
    }
   ],
   "source": [
    "instant_dem = []\n",
    "def_dem = []\n",
    "price = []\n",
    "for i in range(1000):\n",
    "    day, tmp = getTicksForDay(143038273 + i)\n",
    "    instant_dem += [tick.demand for tick in tmp]\n",
    "\n",
    "    def_ = [i.energy for i in day.deferables]\n",
    "    def_dem += [max(def_)]\n",
    "    price = [i.buy_price for i in tmp]\n",
    "    \n",
    "\n",
    "print(f\"instant max: {max(instant_dem)*5}\\ndeferable max: {max(def_dem)}\")"
   ]
  }
 ],
 "metadata": {
  "kernelspec": {
   "display_name": "smartgrid",
   "language": "python",
   "name": "python3"
  },
  "language_info": {
   "codemirror_mode": {
    "name": "ipython",
    "version": 3
   },
   "file_extension": ".py",
   "mimetype": "text/x-python",
   "name": "python",
   "nbconvert_exporter": "python",
   "pygments_lexer": "ipython3",
   "version": "3.12.3"
  }
 },
 "nbformat": 4,
 "nbformat_minor": 2
}
