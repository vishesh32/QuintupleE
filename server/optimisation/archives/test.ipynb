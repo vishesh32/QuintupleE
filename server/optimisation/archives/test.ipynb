{
 "cells": [
  {
   "cell_type": "code",
   "execution_count": 2,
   "metadata": {},
   "outputs": [
    {
     "data": {
      "text/plain": [
       "DeleteResult({'n': 3, 'electionId': ObjectId('7fffffff00000000000000c9'), 'opTime': {'ts': Timestamp(1716459253, 171), 't': 201}, 'ok': 1.0, '$clusterTime': {'clusterTime': Timestamp(1716459253, 173), 'signature': {'hash': b'\\x88\\xebm=\\x81\\xa8\\xd2\\xab\\xc7\\xc2\\x1b\\x05N\\xec\\xe6\\x1e\\xa8Cac', 'keyId': 7306606752026329089}}, 'operationTime': Timestamp(1716459253, 171)}, acknowledged=True)"
      ]
     },
     "execution_count": 2,
     "metadata": {},
     "output_type": "execute_result"
    }
   ],
   "source": [
    "from utils import get_db\n",
    "\n",
    "\n",
    "db = get_db()\n",
    "db.ticks.delete_many({})\n",
    "db.days.delete_many({})"
   ]
  },
  {
   "cell_type": "markdown",
   "metadata": {},
   "source": []
  }
 ],
 "metadata": {
  "kernelspec": {
   "display_name": "smartgrid",
   "language": "python",
   "name": "python3"
  },
  "language_info": {
   "codemirror_mode": {
    "name": "ipython",
    "version": 3
   },
   "file_extension": ".py",
   "mimetype": "text/x-python",
   "name": "python",
   "nbconvert_exporter": "python",
   "pygments_lexer": "ipython3",
   "version": "3.9.19"
  }
 },
 "nbformat": 4,
 "nbformat_minor": 2
}
