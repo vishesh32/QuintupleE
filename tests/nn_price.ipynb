{
 "cells": [
  {
   "cell_type": "code",
   "execution_count": 1,
   "metadata": {},
   "outputs": [],
   "source": [
    "from server.optimisation.models import *\n",
    "from server.optimisation.gen_data import *\n",
    "\n",
    "def getTicksForDay(id):\n",
    "    day = Day.model_validate({\"day\": id, \"deferables\": getDefDemands(id)})\n",
    "    ticks = []\n",
    "    for tick in range(TICKS_PER_DAY):\n",
    "        sun = getSunlight(tick)\n",
    "        demand = getInstDemand(id, tick)\n",
    "        sell, buy = getPrice(id, tick)\n",
    "\n",
    "        ticks.append(\n",
    "            Tick.model_validate(\n",
    "                {\n",
    "                    \"tick\": tick,\n",
    "                    \"sun\": sun,\n",
    "                    \"demand\": demand,\n",
    "                    \"sell_price\": sell,\n",
    "                    \"buy_price\": buy,\n",
    "                    \"day\": id,\n",
    "                }\n",
    "            )\n",
    "        )\n",
    "    return day, ticks"
   ]
  },
  {
   "cell_type": "code",
   "execution_count": 2,
   "metadata": {},
   "outputs": [],
   "source": [
    "buy_data = []\n",
    "sell_data = []\n",
    "for i in range(100):\n",
    "    _, tmp_ticks = getTicksForDay(i)\n",
    "    for tmp in tmp_ticks: buy_data.append(tmp.buy_price)\n",
    "    for tmp in tmp_ticks: sell_data.append(tmp.sell_price)\n",
    "\n",
    "# ticks "
   ]
  },
  {
   "cell_type": "code",
   "execution_count": 3,
   "metadata": {},
   "outputs": [],
   "source": [
    "import torch\n",
    "import torch.nn as nn\n",
    "import torch.nn.functional as F"
   ]
  },
  {
   "cell_type": "code",
   "execution_count": 8,
   "metadata": {},
   "outputs": [],
   "source": [
    "class Model(nn.Module):\n",
    "    def __init__(self, in_f = 2, hl1 = 20, hl2 = 20, out=1):\n",
    "        super().__init__()\n",
    "        self.fc1 = nn.Linear(in_f, hl1)\n",
    "        self.fc2 = nn.Linear(hl1, hl2)\n",
    "        self.out = nn.Linear(hl2, out)\n",
    "\n",
    "    def forward(self, x):\n",
    "        x = F.relu(self.fc1(x))\n",
    "        x = F.relu(self.fc2(x))\n",
    "        return self.out(x)\n"
   ]
  },
  {
   "cell_type": "code",
   "execution_count": 9,
   "metadata": {},
   "outputs": [],
   "source": [
    "model = Model()"
   ]
  },
  {
   "cell_type": "code",
   "execution_count": null,
   "metadata": {},
   "outputs": [],
   "source": [
    "buy_train = buy_data[:]"
   ]
  }
 ],
 "metadata": {
  "kernelspec": {
   "display_name": ".venv",
   "language": "python",
   "name": "python3"
  },
  "language_info": {
   "codemirror_mode": {
    "name": "ipython",
    "version": 3
   },
   "file_extension": ".py",
   "mimetype": "text/x-python",
   "name": "python",
   "nbconvert_exporter": "python",
   "pygments_lexer": "ipython3",
   "version": "3.12.3"
  }
 },
 "nbformat": 4,
 "nbformat_minor": 2
}
