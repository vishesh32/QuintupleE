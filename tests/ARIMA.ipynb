{
 "cells": [
  {
   "cell_type": "code",
   "execution_count": 2,
   "metadata": {},
   "outputs": [],
   "source": [
    "import pandas as pd\n",
    "from statsmodels.tsa.arima.model import ARIMA"
   ]
  },
  {
   "cell_type": "code",
   "execution_count": 1,
   "metadata": {},
   "outputs": [],
   "source": [
    "from server.optimisation.models import *\n",
    "from server.optimisation.gen_data import *\n",
    "\n",
    "def getTicksForDay(id):\n",
    "    day = Day.model_validate({\"day\": id, \"deferables\": getDefDemands(id)})\n",
    "    ticks = []\n",
    "    for tick in range(TICKS_PER_DAY):\n",
    "        sun = getSunlight(tick)\n",
    "        demand = getInstDemand(id, tick)\n",
    "        sell, buy = getPrice(id, tick)\n",
    "\n",
    "        ticks.append(\n",
    "            Tick.model_validate(\n",
    "                {\n",
    "                    \"tick\": tick,\n",
    "                    \"sun\": sun,\n",
    "                    \"demand\": demand,\n",
    "                    \"sell_price\": sell,\n",
    "                    \"buy_price\": buy,\n",
    "                    \"day\": id,\n",
    "                }\n",
    "            )\n",
    "        )\n",
    "    return day, ticks"
   ]
  },
  {
   "cell_type": "code",
   "execution_count": 50,
   "metadata": {},
   "outputs": [],
   "source": [
    "buy_data = []\n",
    "sell_data = []\n",
    "for i in range(100):\n",
    "    _, tmp_ticks = getTicksForDay(i)\n",
    "    for tmp in tmp_ticks: buy_data.append(tmp.buy_price)\n",
    "    for tmp in tmp_ticks: sell_data.append(tmp.sell_price)\n",
    "\n",
    "# ticks "
   ]
  },
  {
   "cell_type": "code",
   "execution_count": 51,
   "metadata": {},
   "outputs": [],
   "source": [
    "def train(data):\n",
    "    model = ARIMA(data, order=(30, 10, 30))\n",
    "    return model.fit()\n",
    "\n",
    "def predict(model_fit, ticks):\n",
    "    return model_fit.forecast(steps=ticks)\n"
   ]
  },
  {
   "cell_type": "code",
   "execution_count": 52,
   "metadata": {},
   "outputs": [
    {
     "name": "stderr",
     "output_type": "stream",
     "text": [
      "/home/jay/uni/QuintupleE/.venv/lib/python3.12/site-packages/statsmodels/tsa/statespace/sarimax.py:978: UserWarning: Non-invertible starting MA parameters found. Using zeros as starting parameters.\n",
      "  warn('Non-invertible starting MA parameters found.'\n",
      "/home/jay/uni/QuintupleE/.venv/lib/python3.12/site-packages/statsmodels/base/model.py:607: ConvergenceWarning: Maximum Likelihood optimization failed to converge. Check mle_retvals\n",
      "  warnings.warn(\"Maximum Likelihood optimization failed to \"\n",
      "/home/jay/uni/QuintupleE/.venv/lib/python3.12/site-packages/statsmodels/base/model.py:607: ConvergenceWarning: Maximum Likelihood optimization failed to converge. Check mle_retvals\n",
      "  warnings.warn(\"Maximum Likelihood optimization failed to \"\n"
     ]
    }
   ],
   "source": [
    "buy_model = train(buy_data)\n",
    "sell_model = train(sell_data)"
   ]
  },
  {
   "cell_type": "code",
   "execution_count": 53,
   "metadata": {},
   "outputs": [],
   "source": [
    "buy_test = []\n",
    "buy_pred = []\n",
    "# sell_test = []\n",
    "buy_pred = predict(buy_model, 600)\n",
    "\n",
    "\n",
    "for i in range(10):\n",
    "    _, tmp_ticks = getTicksForDay(i)\n",
    "    for tmp in tmp_ticks:\n",
    "        buy_test.append(tmp.buy_price)\n",
    "        \n",
    "        # print(forecast)\n",
    "        # pred_price = forecast.predicted_mean.values\n",
    "        # print(pred_price)\n",
    "        # buy_pred.append(pred_price)\n",
    "\n",
    "    # for tmp in tmp_ticks: sell_test.append(tmp.sell_price)\n",
    "\n"
   ]
  },
  {
   "cell_type": "code",
   "execution_count": 54,
   "metadata": {},
   "outputs": [],
   "source": [
    "import matplotlib.pyplot as plt"
   ]
  },
  {
   "cell_type": "code",
   "execution_count": 64,
   "metadata": {},
   "outputs": [
    {
     "data": {
      "image/png": "[encoded data removed]",
      "text/plain": [
       "<Figure size 640x480 with 1 Axes>"
      ]
     },
     "metadata": {},
     "output_type": "display_data"
    }
   ],
   "source": [
    "val = 2\n",
    "\n",
    "x = [i for i in range(val)]\n",
    "\n",
    "# plt.figure(figsize=(10,6))\n",
    "plt.plot(x, -buy_pred[:val], label='pred')\n",
    "plt.plot(x, buy_test[:val], label='pred')\n",
    "# plt.legend()\n",
    "plt.show()\n",
    "# buy_pred"
   ]
  },
  {
   "cell_type": "code",
   "execution_count": null,
   "metadata": {},
   "outputs": [],
   "source": []
  }
 ],
 "metadata": {
  "kernelspec": {
   "display_name": ".venv",
   "language": "python",
   "name": "python3"
  },
  "language_info": {
   "codemirror_mode": {
    "name": "ipython",
    "version": 3
   },
   "file_extension": ".py",
   "mimetype": "text/x-python",
   "name": "python",
   "nbconvert_exporter": "python",
   "pygments_lexer": "ipython3",
   "version": "3.12.3"
  }
 },
 "nbformat": 4,
 "nbformat_minor": 2
}
